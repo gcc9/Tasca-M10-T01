{
 "cells": [
  {
   "cell_type": "code",
   "execution_count": null,
   "id": "7fd47019",
   "metadata": {},
   "outputs": [],
   "source": [
    "################################\n",
    "#   \"SCRAPEO\",  con SELENIUM   #\n",
    "################################"
   ]
  },
  {
   "cell_type": "code",
   "execution_count": 2,
   "id": "882966d6",
   "metadata": {},
   "outputs": [],
   "source": [
    "pip install selenium"
   ]
  },
  {
   "cell_type": "code",
   "execution_count": 71,
   "id": "e2d546d8",
   "metadata": {},
   "outputs": [],
   "source": [
    "##############   https://aprendepython.es/pypi/scraping/selenium/   ##################\n",
    "\n",
    "# 1) Selenium nos permite navegar o usar un navegador sin la participación humana y automatizar procesos a través de código, como escribir en una entrada de usuario e interactuar con el sitio web. Por ejemplo, es posible automatizar el envío de formularios con Selenium. Selenium hace todo por sí mismo sin un solo clic de un humano.\n",
    "\n",
    "# 2) Las posibilidades de usar Selenium con Python para la automatización web son infinitas. Algunos casos de uso incluyen completar un formulario en línea, solicitar trabajos de LinkedIn, jugar un juego de clicker, etc. ¿Conoces otros casos de uso para usar Selenium?\n",
    "\n",
    "# 3) Para usar Selenium necesitamos: \n",
    "    # Navegador web: Selenium necesita un navegador web instalado en el sistema para poder funcionar. Dentro de las opciones disponibles están Chrome, Firefox, Edge, Internet Explorer y Safari. En el caso de este documento vamos a utilizar Firefox. Su descarga e instalación es muy sencilla. \n",
    "    # Driver: Además de esto, también es necesario disponer un «webdriver» que permita manejar el navegador (a modo de marioneta). Cada navegador tiene asociado un tipo de «driver». En el caso de Firefox hablamos de geckodriver. Su descarga e instalación es muy sencilla. es el manejador de las peticiones del usuario. Se trata del objeto fundamental en Selenium que nos permitirá interactuar con el navegador y los sitios web.\n",
    "    \n",
    "# 4) Configurar las opciones del navegador:\n",
    "    # https://www.selenium.dev/selenium/docs/api/py/webdriver_firefox/selenium.webdriver.firefox.options.html#module-selenium.webdriver.firefox.options"
   ]
  },
  {
   "cell_type": "code",
   "execution_count": 73,
   "id": "08c91bf2",
   "metadata": {},
   "outputs": [],
   "source": [
    "# Importamos la biblioteca\n",
    "from selenium import webdriver\n",
    "from selenium.webdriver.common.keys import Keys    # - - - > Este comando no sé para qué es ¿?\n",
    "from selenium.webdriver.common.by import By\n",
    "\n",
    "\n",
    "# Importamos el driver de Firefox\n",
    "driver = webdriver.Firefox()\n",
    "driver.maximize_window()\n",
    "driver.implicitly_wait(20)                         #- - - > Deja un tiempo antes de continuar con los siguientes procesos (para que dé tiempo de que se abra la página, p.ej, y luego buscar un elemento en ella)\n",
    "\n",
    "# ==> Se abre una nueva ventana del navegador"
   ]
  },
  {
   "cell_type": "code",
   "execution_count": 74,
   "id": "6abf011c",
   "metadata": {},
   "outputs": [],
   "source": [
    "# Accedemos a la aplicación web - - > Usamos el método get\n",
    "\n",
    "driver.get(\"https://es.wikipedia.org/\")\n",
    "import time\n",
    "time.sleep(5) \n",
    "\n",
    "# Podemos actualizar la página\n",
    "driver.refresh()\n"
   ]
  },
  {
   "cell_type": "code",
   "execution_count": 75,
   "id": "210818bc",
   "metadata": {},
   "outputs": [],
   "source": [
    "# Localizamos el cuadro de texto (botón derecho sobre el buscador - - > Inspeccionar - - > Buscamos el \"ID\")\n",
    "search_field = driver.find_element(\"id\",\"searchInput\")\n",
    "search_field.clear()\n",
    "\n",
    "# Indicar y confirmar término de búsqueda\n",
    "search_field.send_keys(\"Tyrannosaurus rex\")\n",
    "search_field.submit()\n",
    "\n",
    "\n",
    "#   ===> Se abre una página de wikipedia con la búsqueda de Tyranosaurus Rex :DD"
   ]
  }
 ],
 "metadata": {
  "kernelspec": {
   "display_name": "Python 3 (ipykernel)",
   "language": "python",
   "name": "python3"
  },
  "language_info": {
   "codemirror_mode": {
    "name": "ipython",
    "version": 3
   },
   "file_extension": ".py",
   "mimetype": "text/x-python",
   "name": "python",
   "nbconvert_exporter": "python",
   "pygments_lexer": "ipython3",
   "version": "3.9.12"
  }
 },
 "nbformat": 4,
 "nbformat_minor": 5
}
