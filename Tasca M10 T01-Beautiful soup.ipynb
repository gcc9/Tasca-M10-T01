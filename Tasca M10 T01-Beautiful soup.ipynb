{
 "cells": [
  {
   "cell_type": "code",
   "execution_count": null,
   "id": "97a846ac",
   "metadata": {},
   "outputs": [],
   "source": [
    "###########################################\n",
    "###   Exercicis de Web Scraping.       ###\n",
    "##########################################\n",
    "\n",
    "#- Exercici 1\n",
    "#Realitza web scraping de dues de les tres pàgines web proposades utilitzant BeautifulSoup primer i Selenium després. \n",
    "#- http://quotes.toscrape.com\n",
    "#- https://www.bolsamadrid.es\n",
    "#- www.wikipedia.es (fes alguna cerca primer i escrapeja algun contingut)\n",
    "\n",
    "\n",
    "#- Exercici 2\n",
    "#Documenta en un Word el teu conjunt de dades generat amb la informació que tenen els diferents arxius de Kaggle.\n",
    "\n",
    "#Per saber més\n",
    "#A manera d'exemple del que es demana pots consultar aquest enllaç:\n",
    "#->https://www.kaggle.com/datasets/vivovinco/20212022-football-team-stats.\n",
    "\n",
    "\n",
    "#- Exercici 3\n",
    "#Tria una pàgina web que tu vulguis i realitza web scraping mitjançant la llibreria Selenium primer i Scrapy després\n"
   ]
  },
  {
   "cell_type": "code",
   "execution_count": null,
   "id": "513da400",
   "metadata": {},
   "outputs": [],
   "source": [
    "# COMPARATIVA MÉTODOS DE SCRAPING              Scrapy   Selenium   BeautifulSoup\n",
    "  # Facilidad de aprendizaje y manejo            ++        +             +++\n",
    "  # Lectura de contenidos dinámicos              ++        +++           +\n",
    "  # Realización de aplicaciones complejas        +++       +             ++\n",
    "  # Robustez frente a fallos HTML                ++        +             +++\n",
    "  # Optimización del rendimiento del scraping    +++       +             +\n",
    "  # Calidad del ecosistema                       +++       +             ++ "
   ]
  },
  {
   "cell_type": "code",
   "execution_count": 1,
   "id": "3fcf4cbd",
   "metadata": {},
   "outputs": [],
   "source": [
    "#pip install selenium"
   ]
  },
  {
   "cell_type": "code",
   "execution_count": 2,
   "id": "039e0b36",
   "metadata": {},
   "outputs": [],
   "source": [
    "#pip install beautifulsoup4"
   ]
  },
  {
   "cell_type": "code",
   "execution_count": 10,
   "id": "6e1f8df6",
   "metadata": {},
   "outputs": [],
   "source": [
    "#Instalamos el parser, que es responsable de transformar el documento HTML o XML en un árbol complejo de objetos Python.#"
   ]
  },
  {
   "cell_type": "code",
   "execution_count": 11,
   "id": "9c03e6f9",
   "metadata": {},
   "outputs": [],
   "source": [
    "pip install lxml"
   ]
  },
  {
   "cell_type": "code",
   "execution_count": 16,
   "id": "d7c7045d",
   "metadata": {},
   "outputs": [
    {
     "name": "stdout",
     "output_type": "stream",
     "text": [
      "Collecting html5lib\n",
      "  Downloading html5lib-1.1-py2.py3-none-any.whl (112 kB)\n",
      "     -------------------------------------- 112.2/112.2 kB 1.6 MB/s eta 0:00:00\n",
      "Requirement already satisfied: webencodings in d:\\users\\gestio\\anaconda3\\lib\\site-packages (from html5lib) (0.5.1)\n",
      "Requirement already satisfied: six>=1.9 in d:\\users\\gestio\\anaconda3\\lib\\site-packages (from html5lib) (1.16.0)\n",
      "Installing collected packages: html5lib\n",
      "Successfully installed html5lib-1.1\n",
      "Note: you may need to restart the kernel to use updated packages.\n"
     ]
    }
   ],
   "source": [
    "pip install html5lib"
   ]
  },
  {
   "cell_type": "code",
   "execution_count": 22,
   "id": "01697d37",
   "metadata": {},
   "outputs": [],
   "source": [
    "##########################################\n",
    "# IMPORTAMOS LAS BIBLIOTECAS NECESARIAS #\n",
    "##########################################\n",
    "\n",
    "import csv\n",
    "import requests\n",
    "from bs4 import BeautifulSoup\n",
    "import pandas as pd"
   ]
  },
  {
   "cell_type": "code",
   "execution_count": 30,
   "id": "65c39a07",
   "metadata": {},
   "outputs": [],
   "source": [
    "#########################################################\n",
    "# EMPEZAMOS CON EL \"SCRAPEO\", primero con BeautifulSoup #\n",
    "#########################################################\n",
    "\n",
    "# Creamos una variable que contienga el enlace a la página.\n",
    "\n",
    "url_objetivo =\"https://quotes.toscrape.com/\"\n",
    "# otra url muy interesante ==> \"https://www.worldometers.info/world-population/population-by-country/\"\n",
    "\n",
    "\n",
    "# Hacemos una petición HTTP a la página web para obtener su HTML\n",
    "req = requests.get(url_objetivo)\n",
    "\n",
    "\n",
    "# A partir del objeto \"req\", obtenemos el Status Code y el HTML:\n",
    "statusCode = req.status_code\n",
    "htmlText = req.text\n",
    "\n"
   ]
  },
  {
   "cell_type": "code",
   "execution_count": 29,
   "id": "8c72ea31",
   "metadata": {},
   "outputs": [
    {
     "name": "stdout",
     "output_type": "stream",
     "text": [
      "200\n"
     ]
    }
   ],
   "source": [
    "print(statusCode)\n",
    "#Los códigos de estado de respuesta HTTP indican si se ha completado satisfactoriamente una solicitud HTTP específica. Las respuestas se agrupan en cinco clases:\n",
    "  #  Respuestas informativas (100–199),\n",
    "  #  Respuestas satisfactorias (200–299),\n",
    "  #  Redirecciones (300–399),\n",
    "  #  Errores de los clientes (400–499),\n",
    "  #  y errores de los servidores (500–599).\n"
   ]
  },
  {
   "cell_type": "code",
   "execution_count": null,
   "id": "20b6b048",
   "metadata": {},
   "outputs": [],
   "source": [
    "# Utilizamos BeautifulSoup para extraer el código html; posteriormente podremos extraer la información con los comandos de BeatifulSoup\n",
    "soup = BeautifulSoup(req.text)\n",
    "print(htmlText)\n",
    "print(\"\\n----------------------------------------------------\\n\")\n",
    "print(soup)"
   ]
  },
  {
   "cell_type": "code",
   "execution_count": 58,
   "id": "37801c71",
   "metadata": {},
   "outputs": [
    {
     "name": "stdout",
     "output_type": "stream",
     "text": [
      "<span class=\"text\" itemprop=\"text\">“The world as we have created it is a process of our thinking. It cannot be changed without changing our thinking.”</span>\n"
     ]
    }
   ],
   "source": [
    "# Diferentes comandos de BeautfulSoup para extraer información: \n",
    "soup.title                   # ------> Título\n",
    "soup.title.name              # ------> Título\n",
    "soup.title.string            # ------> Título\n",
    "soup.h1                      # ------> Encabezado\n",
    "soup.h1.string               # ------> Primer párrafo\n",
    "#soup.h1['class']            # ------> Clase de encabezado\n",
    "#soup.h1['id']               # ------> Atributo id del encabezado\n",
    "print(soup.span)             # ------> Texto (en este caso es el atributo span el que mirando el código html nos indica dónde está el texto que me interesa)"
   ]
  },
  {
   "cell_type": "code",
   "execution_count": 59,
   "id": "545315d0",
   "metadata": {},
   "outputs": [
    {
     "name": "stdout",
     "output_type": "stream",
     "text": [
      "“The world as we have created it is a process of our thinking. It cannot be changed without changing our thinking.”\n",
      "by Albert Einstein\n",
      "(about)\n",
      "\n",
      "“It is our choices, Harry, that show what we truly are, far more than our abilities.”\n",
      "by J.K. Rowling\n",
      "(about)\n",
      "\n",
      "“There are only two ways to live your life. One is as though nothing is a miracle. The other is as though everything is a miracle.”\n",
      "by Albert Einstein\n",
      "(about)\n",
      "\n",
      "“The person, be it gentleman or lady, who has not pleasure in a good novel, must be intolerably stupid.”\n",
      "by Jane Austen\n",
      "(about)\n",
      "\n",
      "“Imperfection is beauty, madness is genius and it's better to be absolutely ridiculous than absolutely boring.”\n",
      "by Marilyn Monroe\n",
      "(about)\n",
      "\n",
      "“Try not to become a man of success. Rather become a man of value.”\n",
      "by Albert Einstein\n",
      "(about)\n",
      "\n",
      "“It is better to be hated for what you are than to be loved for what you are not.”\n",
      "by André Gide\n",
      "(about)\n",
      "\n",
      "“I have not failed. I've just found 10,000 ways that won't work.”\n",
      "by Thomas A. Edison\n",
      "(about)\n",
      "\n",
      "“A woman is like a tea bag; you never know how strong it is until it's in hot water.”\n",
      "by Eleanor Roosevelt\n",
      "(about)\n",
      "\n",
      "“A day without sunshine is like, you know, night.”\n",
      "by Steve Martin\n",
      "(about)\n",
      "\n",
      "→\n",
      "\n",
      "love\n",
      "\n",
      "\n",
      "inspirational\n",
      "\n",
      "\n",
      "life\n",
      "\n",
      "\n",
      "humor\n",
      "\n",
      "\n",
      "books\n",
      "\n",
      "\n",
      "reading\n",
      "\n",
      "\n",
      "friendship\n",
      "\n",
      "\n",
      "friends\n",
      "\n",
      "\n",
      "truth\n",
      "\n",
      "\n",
      "simile\n",
      "\n",
      "❤\n"
     ]
    }
   ],
   "source": [
    "# Finalmente iteramos para obtener todos los textos de la página. \n",
    "\n",
    "for x in soup.find_all('span'):\n",
    "    print(x.text)\n",
    "\n",
    "#A modo de ejemplo, podríamos filtrar por otros parámetros:\n",
    "    # ---> Por atributo ---> soup.find_all(id='footer')\n",
    "    # ---> Por clase CSS ---> soup.find_all('div', class_=\"links\") "
   ]
  },
  {
   "cell_type": "code",
   "execution_count": null,
   "id": "fe304229",
   "metadata": {},
   "outputs": [],
   "source": [
    "######################################################\n",
    "#  CONTINUAMOS CON EL \"SCRAPEO\", ahora con SELENIUM  #\n",
    "######################################################\n",
    "\n",
    "# En el siguiente workbook"
   ]
  }
 ],
 "metadata": {
  "kernelspec": {
   "display_name": "Python 3 (ipykernel)",
   "language": "python",
   "name": "python3"
  },
  "language_info": {
   "codemirror_mode": {
    "name": "ipython",
    "version": 3
   },
   "file_extension": ".py",
   "mimetype": "text/x-python",
   "name": "python",
   "nbconvert_exporter": "python",
   "pygments_lexer": "ipython3",
   "version": "3.9.12"
  }
 },
 "nbformat": 4,
 "nbformat_minor": 5
}
